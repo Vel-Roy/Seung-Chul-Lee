{
  "nbformat": 4,
  "nbformat_minor": 0,
  "metadata": {
    "colab": {
      "name": "File Organization.ipynb",
      "provenance": [],
      "collapsed_sections": [
        "l8xYfCJWA6op",
        "9JZiPWtNA_YV",
        "M5wW4B5fBf9t",
        "NxXkIuwQM5Ir",
        "4TZx-EdlQGrd",
        "hsEPAh6rRmCK",
        "yhzprukjTC-Z",
        "BqlG7SyDYAOF",
        "uNMRu_jQbkWh"
      ],
      "mount_file_id": "1N82BVzeeYc13C8GarluyfCKYGs2q9dxg",
      "authorship_tag": "ABX9TyPcb1OIsnPjTv0OE8LOKbZ7",
      "include_colab_link": true
    },
    "kernelspec": {
      "name": "python3",
      "display_name": "Python 3"
    }
  },
  "cells": [
    {
      "cell_type": "markdown",
      "metadata": {
        "id": "view-in-github",
        "colab_type": "text"
      },
      "source": [
        "<a href=\"https://colab.research.google.com/github/Vel-Roy/Seung-Chul-Lee/blob/master/dsaint31x%20/%20intro_python/2019_winter/File_Organization.ipynb\" target=\"_parent\"><img src=\"https://colab.research.google.com/assets/colab-badge.svg\" alt=\"Open In Colab\"/></a>"
      ]
    },
    {
      "cell_type": "markdown",
      "metadata": {
        "id": "l8xYfCJWA6op",
        "colab_type": "text"
      },
      "source": [
        "# 파일 체계화하기!\n",
        "# File Organization"
      ]
    },
    {
      "cell_type": "markdown",
      "metadata": {
        "id": "9JZiPWtNA_YV",
        "colab_type": "text"
      },
      "source": [
        "## shutil module\n",
        "\n",
        "'shell utility' 모듈은 파이썬 프로그램에서 파일을 복사, 이동, 이름 바꾸기, 삭제하기 기능을 제공한다. shutil 기능을 사용하려면 여느 모듈과 마찬가지로 `import shutil`을 사용해야 한다. "
      ]
    },
    {
      "cell_type": "markdown",
      "metadata": {
        "id": "M5wW4B5fBf9t",
        "colab_type": "text"
      },
      "source": [
        "### 파일 폴더 복사하기\n"
      ]
    },
    {
      "cell_type": "markdown",
      "metadata": {
        "id": "BlDXBdF8NNS9",
        "colab_type": "text"
      },
      "source": [
        "shutil module은 파일만이 아니라 전체 폴더를 복사하는 함수를 제공한다. `shutil.copy(source, deestination)` 함수를 호출하면 source 경로에 있는 파일을 destination 경로로 복사한다. \n",
        "\n",
        "destination이 경로가 아닌 파일명일 경우 복사되는 파일의 새 이름으로 인지된다."
      ]
    },
    {
      "cell_type": "code",
      "metadata": {
        "id": "CMVDrO1lCsXT",
        "colab_type": "code",
        "colab": {}
      },
      "source": [
        "import shutil, os"
      ],
      "execution_count": 0,
      "outputs": []
    },
    {
      "cell_type": "code",
      "metadata": {
        "id": "N3SBk_u2Hu5R",
        "colab_type": "code",
        "colab": {}
      },
      "source": [
        "os.chdir('C:\\\\')"
      ],
      "execution_count": 0,
      "outputs": []
    },
    {
      "cell_type": "code",
      "metadata": {
        "id": "nBGwwICKH-UJ",
        "colab_type": "code",
        "colab": {}
      },
      "source": [
        "shutil.copy('C:\\\\spam.txt', 'C://dilicious')"
      ],
      "execution_count": 0,
      "outputs": []
    },
    {
      "cell_type": "markdown",
      "metadata": {
        "id": "0IQDFogIL8y4",
        "colab_type": "text"
      },
      "source": [
        "spam.txt 파일을 delisious 폴더에 spam.txt파일로 복사한다."
      ]
    },
    {
      "cell_type": "code",
      "metadata": {
        "id": "H5sUeZzzLwH6",
        "colab_type": "code",
        "colab": {}
      },
      "source": [
        "shutil.copy('eggs.txt','C:\\\\delicious\\\\eggs2.txt')"
      ],
      "execution_count": 0,
      "outputs": []
    },
    {
      "cell_type": "markdown",
      "metadata": {
        "id": "S1ql10XtMGgP",
        "colab_type": "text"
      },
      "source": [
        "eggs.txt파일을 delisious 폴터에 eggs2.txt파일로 저장한다.\n",
        "source와 destination의 매개변수는 모두 문자열이다."
      ]
    },
    {
      "cell_type": "code",
      "metadata": {
        "id": "xOe1ktTQMirG",
        "colab_type": "code",
        "colab": {}
      },
      "source": [
        "import shutil, os"
      ],
      "execution_count": 0,
      "outputs": []
    },
    {
      "cell_type": "code",
      "metadata": {
        "id": "VtI1NHClMmHx",
        "colab_type": "code",
        "colab": {}
      },
      "source": [
        "os.chdir('C:\\\\')"
      ],
      "execution_count": 0,
      "outputs": []
    },
    {
      "cell_type": "code",
      "metadata": {
        "id": "V0LVEFjkModU",
        "colab_type": "code",
        "colab": {}
      },
      "source": [
        "shutil.copytree('C:\\\\bacon', 'C:\\\\bacon_backup')"
      ],
      "execution_count": 0,
      "outputs": []
    },
    {
      "cell_type": "markdown",
      "metadata": {
        "id": "DZTMpRfcMw5I",
        "colab_type": "text"
      },
      "source": [
        "bacon이라는 폴더의 백업 폴더를 생성할때 `copytree` 함수가 사용된다. \n",
        "원래의 source 폴더와 같은 내용으로 새폴더를 만들 때 사용된다."
      ]
    },
    {
      "cell_type": "markdown",
      "metadata": {
        "id": "NxXkIuwQM5Ir",
        "colab_type": "text"
      },
      "source": [
        "### 파일이나 폴더 이동 및 이름 바꾸기\n"
      ]
    },
    {
      "cell_type": "markdown",
      "metadata": {
        "id": "72VpR3GYNB0x",
        "colab_type": "text"
      },
      "source": [
        "`shutil.move(source, destination)` 함수를 호출하면 source 경로에 있는 파일 또는 폴더를 destination 경로로 옮긴 다음 새로운 위치의 절대 경로 문자열을 돌려준다.\n",
        "\n",
        "destination이 폴더를 가리키는 경우, source 파일은 destination 으로 옮겨지며 기존 파일 이름이 유지된다. "
      ]
    },
    {
      "cell_type": "code",
      "metadata": {
        "id": "66ZdO4q4OupB",
        "colab_type": "code",
        "colab": {}
      },
      "source": [
        "import shutil"
      ],
      "execution_count": 0,
      "outputs": []
    },
    {
      "cell_type": "code",
      "metadata": {
        "id": "OztoRaNDOwsW",
        "colab_type": "code",
        "colab": {}
      },
      "source": [
        "shutil.move('C:\\\\bacon.txt', 'C:\\\\eggs')"
      ],
      "execution_count": 0,
      "outputs": []
    },
    {
      "cell_type": "markdown",
      "metadata": {
        "id": "Xv2RGry0O3dV",
        "colab_type": "text"
      },
      "source": [
        "eggs라는 폴더가 있을 때와 없을 때를 각각 생각해야한다. \n",
        "\n",
        "eggs라는 폴더가 있다고 가정하면 eggs 폴더에 bacon.txt를 저장한다. 이때 이미 bacon.txt라는 파일이 있다면 덮어쓴다. 즉, 기존의 데이터가 날아갈 수 있는 소지가 있기 때문에 사용에 유의해야한다. \n",
        "\n",
        "eggs라는 폴더가 없다면 bacon.txt 파일을 eggs(txt 확장자가 없는 파일)로 저장한다. 파일 폴더 복사하기와 마찬가지로 destination에 파일이름이 들어가면 이동한 후 파일이름을 수정한다. 아래 예시가 있다. 이 경우 프로그램에서 찾아내기 힘든 버그를 만들 수도 있다. "
      ]
    },
    {
      "cell_type": "code",
      "metadata": {
        "id": "pIpZ5Pf-P4lS",
        "colab_type": "code",
        "colab": {}
      },
      "source": [
        "shutil.move('c:\\\\bacon.txt', 'c:\\\\eggs\\\\new_bacon.txt')"
      ],
      "execution_count": 0,
      "outputs": []
    },
    {
      "cell_type": "markdown",
      "metadata": {
        "id": "4TZx-EdlQGrd",
        "colab_type": "text"
      },
      "source": [
        "### 파일 및 폴더 완전히 지우기\n"
      ]
    },
    {
      "cell_type": "markdown",
      "metadata": {
        "id": "1U5Tt2gvQLvQ",
        "colab_type": "text"
      },
      "source": [
        "os 모듈에서는 하나의 파일 또는 하나의 '빈' 폴더를 지우는 기능을 제공하지만 폴더와 그 내용을 모두 지우려면 shutil 모듈을 사용해야 한다.\n",
        "* `os.unlink(path)` 함수는 path에 있는 파일을 지운다.\n",
        "* `os.rmdir(path)` 함수는 path에 있는 폴더를 지운다. 이 폴더에는 어떤 파일 또는 폴더도 없어야 한다.\n",
        "* `shutil.remtree(path)` 함수는 path에 있는 포더는 물론 그 안의 파일고 폴더도 모두 지운다. \n",
        "\n",
        "프로그램에서 이러한 함수들을 사용할 때에는 주의가 필요하다. 이러한 프로그램을 처음 실행할 때에는 해당하는 함수들을 주석 처리한 다음 `print()` 함수로 삭제될 파일을 출력하는 것이 좋다. "
      ]
    },
    {
      "cell_type": "code",
      "metadata": {
        "id": "atmtAqwUQ2cY",
        "colab_type": "code",
        "colab": {}
      },
      "source": [
        "import os\n",
        "for filename in os.listdir():\n",
        "  if filename.endswith('.rxt'):\n",
        "    os.unlink(filename)"
      ],
      "execution_count": 0,
      "outputs": []
    },
    {
      "cell_type": "code",
      "metadata": {
        "id": "uDQScklcRBeY",
        "colab_type": "code",
        "colab": {}
      },
      "source": [
        "import os\n",
        "for filename in os.listdir():\n",
        "  if filename.endswith('.rxt'):\n",
        "    #os.unlink(filename)\n",
        "    print(filename)"
      ],
      "execution_count": 0,
      "outputs": []
    },
    {
      "cell_type": "markdown",
      "metadata": {
        "id": "S76b44uxRMHB",
        "colab_type": "text"
      },
      "source": [
        "오타로 중요한 폴더인 rxt파일을 지워버리는 불상사를 막기 위해서 `print()` 함수로 확인하는 습관을 들이는 것이 좋다."
      ]
    },
    {
      "cell_type": "markdown",
      "metadata": {
        "id": "hsEPAh6rRmCK",
        "colab_type": "text"
      },
      "source": [
        "### send2trash 모듈로 안전하게 지우기\n",
        "\n",
        "파이썬의 내장 `shutil.rmtree()` 함수는 파일과 폴더를 삭제한 후 되될릴 수 없기 때문에 위험하다. 하지만 send2trash 함수를 사용하면 폴더와 파일을 컴퓨터의 휴지통에 보내기 때문에 훨씬 안전하다.  "
      ]
    },
    {
      "cell_type": "code",
      "metadata": {
        "id": "0zivF1dXSNZS",
        "colab_type": "code",
        "colab": {}
      },
      "source": [
        "import send2trash"
      ],
      "execution_count": 0,
      "outputs": []
    },
    {
      "cell_type": "code",
      "metadata": {
        "id": "cD4A6vKFSayq",
        "colab_type": "code",
        "colab": {}
      },
      "source": [
        "baconFile = open('bacon.txt', 'a')"
      ],
      "execution_count": 0,
      "outputs": []
    },
    {
      "cell_type": "code",
      "metadata": {
        "id": "dXdscooeSeaB",
        "colab_type": "code",
        "colab": {
          "base_uri": "https://localhost:8080/",
          "height": 35
        },
        "outputId": "ccbab9c5-d1cf-4f2d-f896-ea29c80982f4"
      },
      "source": [
        "baconFile.write('Bacon is not a vegetable')"
      ],
      "execution_count": 19,
      "outputs": [
        {
          "output_type": "execute_result",
          "data": {
            "text/plain": [
              "24"
            ]
          },
          "metadata": {
            "tags": []
          },
          "execution_count": 19
        }
      ]
    },
    {
      "cell_type": "code",
      "metadata": {
        "id": "sG6wzqJcSfDk",
        "colab_type": "code",
        "colab": {}
      },
      "source": [
        "baconFile.close()"
      ],
      "execution_count": 0,
      "outputs": []
    },
    {
      "cell_type": "code",
      "metadata": {
        "id": "qMuQ9QYqSiZv",
        "colab_type": "code",
        "colab": {}
      },
      "source": [
        "send2trash.send2trash('bacon.txt')"
      ],
      "execution_count": 0,
      "outputs": []
    },
    {
      "cell_type": "markdown",
      "metadata": {
        "id": "-ovbveDlSrlf",
        "colab_type": "text"
      },
      "source": [
        "일반적으로 파일과 폴더를 지월 때 한상 `send2trash.send2trash()`함수를 사용해야 한다. 휴지통에 파일을 전송하면 디스크의 남은 공간을 늘려주지는 못한다는 단점이 있다. 이때는 shutil함수를 써서 파일과 폴더를 지워야한다. 또한, send2trash 함수는 휴지통으로 파일을 보낼 수는 있지만 가져오지는 못한다는 것을 기억하자."
      ]
    },
    {
      "cell_type": "markdown",
      "metadata": {
        "id": "yhzprukjTC-Z",
        "colab_type": "text"
      },
      "source": [
        "## 디렉토리 트리 돌아다니기"
      ]
    },
    {
      "cell_type": "markdown",
      "metadata": {
        "id": "36Z_SVP2TGdW",
        "colab_type": "text"
      },
      "source": [
        "`chdir` 함수를 배운 기억이 있을 것이다. 현재 작업 디렉토리를 변경하는 함수이다. chdir 함수와 같이 원하는 작업을 하기 위해서 디렉토리를 돌아다녀야한다. 파이썬은 이런 과정을 처리할 수 있는 기능을 제공한다 ."
      ]
    },
    {
      "cell_type": "code",
      "metadata": {
        "id": "Ojv7WwiPVBP8",
        "colab_type": "code",
        "colab": {}
      },
      "source": [
        "import os\n",
        "\n",
        "for folderName, subfolders, filenames in os.walk('C:\\\\delicious'):\n",
        "  print('The current folder is' + folderName)\n",
        "\n",
        "for subfolder in subfolders:\n",
        "  print('SUBFOLDER OF' + foldername + ':' + subfolder)\n",
        "\n",
        "for filename in filenames:\n",
        "  print('FILE INSIDE' + folderName + ':' + filename)\n",
        "\n",
        "print('')\n"
      ],
      "execution_count": 0,
      "outputs": []
    },
    {
      "cell_type": "markdown",
      "metadata": {
        "id": "VoDy6VewWQXL",
        "colab_type": "text"
      },
      "source": [
        "`os.walk()` 함수에는 폴더의 경로, 하나의 문자열 값을 전달한다. 디렉토리 트리를 돌아다니기 위해서는 `os.walk`를 for루프문에서 사용한다. 이는 어떤 범위의 숫자를 차례대로 되풀이하기 위해 range 함수를 사용하는 것과 상당히 비슷한다. range와는 달리 os.walk함수는 루프의 각 반복마다 세 개의 값을 돌려준다. \n",
        " 1. 현재의 폴더 이름의 문자열\n",
        " 2. 현재 폴더 안에 있는 폴더의 문자열 리스트\n",
        " 3. 현재 폴더 안에 있는 파일의 문자열 리스트\n",
        "\n",
        "여기서 현재 폴더란 for 반복을 진행하고 있는 폴더를 뜻한다. os.walk()은 프로그램의 현재 작업 디렉토리를 바꾸지 않는다. "
      ]
    },
    {
      "cell_type": "markdown",
      "metadata": {
        "id": "eqccE6XmXSlF",
        "colab_type": "text"
      },
      "source": [
        "## zipfile 모듈로 파일 압축하기"
      ]
    },
    {
      "cell_type": "markdown",
      "metadata": {
        "id": "K_g07xHVXWF0",
        "colab_type": "text"
      },
      "source": [
        "다른 많은 파일의 내용을 압축해서 저장할 수 있는 zip 파일. 압축을 통해 크기를 줄이면 인터넷을 통해 전송할 때 편리하게 사용해 왔기 때문에 익숙할 것이다. '아카이브 파일'\n",
        " \n",
        "  파이썬 프로그램은 zipfile모듈에 잇는 함수를 사용해서 ZIP파일을 만들거나 열거나 추출할 수 있다. "
      ]
    },
    {
      "cell_type": "markdown",
      "metadata": {
        "id": "BqlG7SyDYAOF",
        "colab_type": "text"
      },
      "source": [
        "### ZIP 파일 읽기"
      ]
    },
    {
      "cell_type": "markdown",
      "metadata": {
        "id": "INwLSc-zYDyl",
        "colab_type": "text"
      },
      "source": [
        "zip 파일의 내용을 읽으려면 먼저 ZipFile 객체를 만들어야한다. (Z와 F가 대문자인 것에 유의하자) ZipFile객체는 개념으로는 앞의 장에서 `open()`함수를 썼을 때 돌려받는 값으로 이미 본적이 있었던 File 객체와 비슷하다. 두 객체는 프로그램이 파일과 상호작용할 수 있는 값이다. ZipFile 함수에 .zip 파일의 이름을 문자열로 전달한다. 여기서 zipfile은 파이썬의 모듈의 이름이고, ZipFile()은 함수의 이름이라는 점에 유의하자. "
      ]
    },
    {
      "cell_type": "code",
      "metadata": {
        "id": "uVipGk3GYzCS",
        "colab_type": "code",
        "colab": {}
      },
      "source": [
        "import zipfile, os"
      ],
      "execution_count": 0,
      "outputs": []
    },
    {
      "cell_type": "code",
      "metadata": {
        "id": "cIDXSXLbY1TM",
        "colab_type": "code",
        "colab": {}
      },
      "source": [
        "os.chdir('C:\\\\')"
      ],
      "execution_count": 0,
      "outputs": []
    },
    {
      "cell_type": "code",
      "metadata": {
        "id": "GuNiEjqVY7xi",
        "colab_type": "code",
        "colab": {}
      },
      "source": [
        "exampleZip = zipfile.ZipFile('example.zip')"
      ],
      "execution_count": 0,
      "outputs": []
    },
    {
      "cell_type": "code",
      "metadata": {
        "id": "8oB4Zt2CZCq1",
        "colab_type": "code",
        "colab": {}
      },
      "source": [
        "exampleZip.namelist()"
      ],
      "execution_count": 0,
      "outputs": []
    },
    {
      "cell_type": "code",
      "metadata": {
        "id": "8qRvmAB9ZF3w",
        "colab_type": "code",
        "colab": {}
      },
      "source": [
        "spamInfo = exampleZip.getinfo('spam.txt')"
      ],
      "execution_count": 0,
      "outputs": []
    },
    {
      "cell_type": "code",
      "metadata": {
        "id": "azyBYqJgZODQ",
        "colab_type": "code",
        "colab": {}
      },
      "source": [
        "spamInfo.file_size"
      ],
      "execution_count": 0,
      "outputs": []
    },
    {
      "cell_type": "code",
      "metadata": {
        "id": "55urWoETZP91",
        "colab_type": "code",
        "colab": {}
      },
      "source": [
        "spamInfo.compress_size"
      ],
      "execution_count": 0,
      "outputs": []
    },
    {
      "cell_type": "code",
      "metadata": {
        "id": "z_oPVXbcZRuQ",
        "colab_type": "code",
        "colab": {}
      },
      "source": [
        "'Compressed file is %sx smallr!' % (round(spamInfo.file_size / spamInfo.compres_size, 2)) \n",
        "#파일이 얼마나 효율적으로 압축되었는지를 %s 형식으로 정돈한 문자열을 사용하여 출력한다. "
      ],
      "execution_count": 0,
      "outputs": []
    },
    {
      "cell_type": "code",
      "metadata": {
        "id": "EPaZjaNkZfq7",
        "colab_type": "code",
        "colab": {}
      },
      "source": [
        "exampleZip.close()"
      ],
      "execution_count": 0,
      "outputs": []
    },
    {
      "cell_type": "markdown",
      "metadata": {
        "id": "iqXQcKgNZ6Og",
        "colab_type": "text"
      },
      "source": [
        "ZipFile 객체에는 Zip파일에 포함된 모든 파일과 포더의 문자열 리스트를 돌려주는 `namelist()` 메소드가 있다. 이러한 문자열은 특정 팡리에 대한 ZipInfo 객체를 돌려준 getinfo()메솓에 전달할 수 있다. ZipInfo 객체에는 각각 원래의 파일 크기와 압축된 파일 크기를 정수 바이트 값으로 가지고 있는 file_size와 compress_size 속성이 있다. ZipFile 객체는 전체 아카이브 파일을 나타내는 반면, ZipFile 개게는 아카이브에 있는 하나의 파일에 대한 유용한 정보를 가지고 있다. "
      ]
    },
    {
      "cell_type": "markdown",
      "metadata": {
        "id": "uNMRu_jQbkWh",
        "colab_type": "text"
      },
      "source": [
        "### ZIP 파일에서 추출하기"
      ]
    },
    {
      "cell_type": "markdown",
      "metadata": {
        "id": "Nm711dBBbo1Q",
        "colab_type": "text"
      },
      "source": [
        "ZipFile 객체의 `extractall()` 메소드는 Zip파일 안에 있는 모든 파일을 현재 작업 디렉토리로 추출해낸다. "
      ]
    },
    {
      "cell_type": "code",
      "metadata": {
        "id": "m1No3cSEb2zp",
        "colab_type": "code",
        "colab": {}
      },
      "source": [
        "import zipfile, os"
      ],
      "execution_count": 0,
      "outputs": []
    },
    {
      "cell_type": "code",
      "metadata": {
        "id": "VqIqcmqJb5FU",
        "colab_type": "code",
        "colab": {}
      },
      "source": [
        "os.chdir('C:\\\\')"
      ],
      "execution_count": 0,
      "outputs": []
    },
    {
      "cell_type": "code",
      "metadata": {
        "id": "vDfK6NWib7Mw",
        "colab_type": "code",
        "colab": {}
      },
      "source": [
        "exampleZip = zipfile.ZipFile('example.zip')"
      ],
      "execution_count": 0,
      "outputs": []
    },
    {
      "cell_type": "code",
      "metadata": {
        "id": "TGCVRpKfcAus",
        "colab_type": "code",
        "colab": {}
      },
      "source": [
        "exampleZip.extractall() #폴더 지정 가능"
      ],
      "execution_count": 0,
      "outputs": []
    },
    {
      "cell_type": "code",
      "metadata": {
        "id": "h-DTyzuicFmL",
        "colab_type": "code",
        "colab": {}
      },
      "source": [
        "exampleZip.close()"
      ],
      "execution_count": 0,
      "outputs": []
    },
    {
      "cell_type": "markdown",
      "metadata": {
        "id": "22mN_otocML4",
        "colab_type": "text"
      },
      "source": [
        "exampel.zip 을 c:\\ 에 푼다. 선택적으로, extractall()에 폴더 이름을 전달해서 현재 작업 디렉토리가 아닌 다른 폴더로 파일을 추출할 수 있다. extractall() 메소드에 전달된 폴덕 존재하지 않는 경우 폴더를 새로 만든다."
      ]
    },
    {
      "cell_type": "code",
      "metadata": {
        "id": "1dZtwIZGcInd",
        "colab_type": "code",
        "colab": {}
      },
      "source": [
        "exampleZip.extract('spam.txt')"
      ],
      "execution_count": 0,
      "outputs": []
    },
    {
      "cell_type": "code",
      "metadata": {
        "id": "GuOSmQuzc_ju",
        "colab_type": "code",
        "colab": {}
      },
      "source": [
        "exampleZip.extract('spam.txt', 'C:\\\\some\\\\new\\\\folders')"
      ],
      "execution_count": 0,
      "outputs": []
    },
    {
      "cell_type": "code",
      "metadata": {
        "id": "aahlhBEndHKc",
        "colab_type": "code",
        "colab": {}
      },
      "source": [
        "exampleZip.close()"
      ],
      "execution_count": 0,
      "outputs": []
    },
    {
      "cell_type": "markdown",
      "metadata": {
        "id": "YLSRhjpfdJ0m",
        "colab_type": "text"
      },
      "source": [
        "extract()에 전달한 문자열은 namelist()로 돌려받은 리스트에 있는 문자열 중하나와 일치해야 한다. 선택적으로, extract()는 현재 작업 디렉토리가 아닌 다른 폴더로 파일을 풀도록 두 번째 매개변수를 전달할 수 있다. 이 두번 째 인수가 아직 존재하지 않는 폴더인 경우, 파이썬은 폴더를 새로 만든다. extract()가 돌려주는 값은 추출된 파일의 절대 경로다. "
      ]
    },
    {
      "cell_type": "markdown",
      "metadata": {
        "id": "yB5LZgbreW4e",
        "colab_type": "text"
      },
      "source": [
        "### Zip 파일을 만들고 추가하기"
      ]
    },
    {
      "cell_type": "markdown",
      "metadata": {
        "id": "dGhX764QeaxD",
        "colab_type": "text"
      },
      "source": [
        "압축된 Zip 파일을 직접 만드려면 두 번째 인수로 'w'를 전달하여 쓰기 모드로 ZipFile 객체를 열어야 한다. (이는 open() 함수에 'w'를 전달하여 쓰기 모드로 텍스트 파일을 여는 것과 비슷하다.)\n",
        "\n",
        "ZipFile 객체의 write() 메소드에 경로를 전달했을 때 파이썬은 그 경로에 있는 파일을 압축하고 Zip 파일에 추가한다. write 메소드의 첫 번째 매개변수는 추가할 파일 이름의 문자열이다. 두 번째 매개변수는 압축 유형 파라미터로 파일을 압축할 때 어떤 컴퓨터 알고리즘을 쓸지 알려준다. 언제나 이 값을 ZipFile.ZIP_DEFLATED로 설정할 수 있다. 이는 모든 데이터 유형에 잘 돌아가는 디플레이트 압축 알고리즘을 지정한다."
      ]
    },
    {
      "cell_type": "code",
      "metadata": {
        "id": "SY5YGtuZfXaB",
        "colab_type": "code",
        "colab": {}
      },
      "source": [
        "import zipfile"
      ],
      "execution_count": 0,
      "outputs": []
    },
    {
      "cell_type": "code",
      "metadata": {
        "id": "5UTzCywSfdGb",
        "colab_type": "code",
        "colab": {}
      },
      "source": [
        "newZip = zipfile.ZipFile('new.zip', 'w')"
      ],
      "execution_count": 0,
      "outputs": []
    },
    {
      "cell_type": "code",
      "metadata": {
        "id": "8gWllJuYfhOK",
        "colab_type": "code",
        "colab": {}
      },
      "source": [
        "newZip.write('spam.txt', compress_type = zipfile.ZIP_DEFALTED)"
      ],
      "execution_count": 0,
      "outputs": []
    },
    {
      "cell_type": "code",
      "metadata": {
        "id": "RL44YCdqfrfy",
        "colab_type": "code",
        "colab": {}
      },
      "source": [
        "newZip.close()"
      ],
      "execution_count": 0,
      "outputs": []
    },
    {
      "cell_type": "markdown",
      "metadata": {
        "id": "CtNArk8vfu_u",
        "colab_type": "text"
      },
      "source": [
        "위 코드는 spam.txt의 압축된 내용을 가지고 있는 new.zip이라는 이름의 새 Zip 파일을 만든다. \n",
        "\n",
        "파일을 쓸 때와 마찬가지로 쓰기 모드는 zip 파일의 기존 내용을 지울 것이라는점을 꼭 기억해야한다. 단순히 기존 zip파일에 파일을 더하고자 할때에는 zipfile(ZipFile() 두번째 매개변수로 'a'를 전달해서 추가 모드로 Zip파일을 연다. "
      ]
    },
    {
      "cell_type": "markdown",
      "metadata": {
        "id": "5oKufBs2gJ2l",
        "colab_type": "text"
      },
      "source": [
        ""
      ]
    },
    {
      "cell_type": "markdown",
      "metadata": {
        "id": "iahyAQm2gkgO",
        "colab_type": "text"
      },
      "source": [
        "# @Vel_030_Roy\n"
      ]
    }
  ]
}