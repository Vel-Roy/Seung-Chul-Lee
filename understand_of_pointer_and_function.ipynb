{
  "nbformat": 4,
  "nbformat_minor": 0,
  "metadata": {
    "colab": {
      "name": "understand of pointer and function.ipynb",
      "provenance": [],
      "collapsed_sections": [
        "N2MBOR305L4e",
        "7b_J_jk1DIK7"
      ],
      "authorship_tag": "ABX9TyNsG5zobm+7Cgz35aNkiMp0",
      "include_colab_link": true
    },
    "kernelspec": {
      "name": "python3",
      "display_name": "Python 3"
    }
  },
  "cells": [
    {
      "cell_type": "markdown",
      "metadata": {
        "id": "view-in-github",
        "colab_type": "text"
      },
      "source": [
        "<a href=\"https://colab.research.google.com/github/Vel-Roy/Seung-Chul-Lee/blob/master/understand_of_pointer_and_function.ipynb\" target=\"_parent\"><img src=\"https://colab.research.google.com/assets/colab-badge.svg\" alt=\"Open In Colab\"/></a>"
      ]
    },
    {
      "cell_type": "markdown",
      "metadata": {
        "id": "szTwtaJK4leZ",
        "colab_type": "text"
      },
      "source": [
        "# 포인터와 함수에 대한 이해\n",
        "포인터 자체의 개념은 크게 어렵지 않지만 포인터가 배열과 함수르 만나면서 그 내용이 어려워진다. "
      ]
    },
    {
      "cell_type": "markdown",
      "metadata": {
        "id": "NY9eo_3M5ADx",
        "colab_type": "text"
      },
      "source": [
        "# 함수의 인자로 배열 전달하기"
      ]
    },
    {
      "cell_type": "markdown",
      "metadata": {
        "id": "N2MBOR305L4e",
        "colab_type": "text"
      },
      "source": [
        "## 인자전달의 기본방식은 값의 복사!\n"
      ]
    },
    {
      "cell_type": "markdown",
      "metadata": {
        "id": "2rbkeOqYGxSn",
        "colab_type": "text"
      },
      "source": [
        "\"함수호출 시 전달되는 인자의 값은 매개변수에 복사가 된다.\"\n",
        "\n",
        "\n",
        "\n",
        "`int SimpleFunc (int num) { .... }`\n",
        "\n",
        "`int main(void)`\n",
        "\n",
        "`{`\n",
        "\n",
        "    `int age=17;`\n",
        "\n",
        "    `SimpleFunc(age);`\n",
        "\n",
        "    `....`\n",
        "\n",
        "`}`\n",
        "\n",
        "위 코드를 예로 들면 SimpleFunc 함수의 호출을 통해서 인자로 age를 전달하고 있다. \n",
        "\n",
        "**그러나 실제로 전달되는 것은 age가 아닌, age에 저장된 값이다.**\n",
        "\n"
      ]
    },
    {
      "cell_type": "markdown",
      "metadata": {
        "id": "YAQm5jUP7k9J",
        "colab_type": "text"
      },
      "source": [
        "함수호출 시 인자로 배열을 념겨주려면 어떻게 해야할까? \n",
        "\n",
        "매개변수로 배열을 선언할 수 없다. 배열을 통째로 넘개받으려면 **매개변수로 배열을 선언할 수 있어야 한다.** 이 때 함수 내에서 배열에 접근할 수 있도록 배열의 주소값을 전달하는 것은 가능하다. "
      ]
    },
    {
      "cell_type": "code",
      "metadata": {
        "id": "VifMh_Hw8UFN",
        "colab_type": "code",
        "colab": {}
      },
      "source": [
        "#include <stdio.h>\n",
        "\n",
        "void ShowArayElem(int* param, int len)\n",
        "{\n",
        "    int i;\n",
        "    for(i=0; i<len; i++)\n",
        "        printf(\"%d\", param[i]);\n",
        "    printf(\"/n\");\n",
        "}\n",
        "\n",
        "int main(void)\n",
        "{\n",
        "    int arr1[3]={1,2,3};\n",
        "    int arr2[5]={4,5,6,7,8};\n",
        "    ShowArrayElem(arr1, sizeof(arr1) / sizeof(int));\n",
        "    ShowArrayElem(arr2, sizeof(arr2) / sizeof(int));\n",
        " \n",
        "    return 0;\n",
        "}"
      ],
      "execution_count": 0,
      "outputs": []
    },
    {
      "cell_type": "code",
      "metadata": {
        "id": "vrZElwhf_4Ff",
        "colab_type": "code",
        "colab": {}
      },
      "source": [
        "#include <stdio.h>\n",
        "\n",
        "void ShowArayElem(int * param, int len)\n",
        "{\n",
        "    int i;\n",
        "    for(i=0; i<len; i++)\n",
        "        printf(\"%d\", param[i]);\n",
        "    printf(\"/n\");\n",
        "}\n",
        "\n",
        "void AddArayElem(int * param, itn len, int add)\n",
        "{\n",
        "    int i;\n",
        "    for (i=0;i<len;i++)\n",
        "        param[i] += add;\n",
        "}\n",
        "\n",
        "int main(void)\n",
        "{\n",
        "    int arr1[3]={1,2,3};\n",
        " \n",
        "    AddArayElem(arr, sizeof(arr) / sizeof(int), 1);\n",
        "    ShowArayElem(arr, sizeof(arr) / sizeof(int));\n",
        " \n",
        "    AddArayElem(arr, sizeof(arr) / sizeof(int), 2);\n",
        "    ShowArayElem(arr, sizeof(arr) / sizeof(int));\n",
        " \n",
        "    AddArayElem(arr, sizeof(arr) / sizeof(int), 3);\n",
        "    ShowArayElem(arr, sizeof(arr) / sizeof(int));\n",
        " \n",
        "    return 0;\n",
        "}"
      ],
      "execution_count": 0,
      "outputs": []
    },
    {
      "cell_type": "markdown",
      "metadata": {
        "id": "ungGd7bA5L7_",
        "colab_type": "text"
      },
      "source": [
        "사실 매개변수 선언에서 `int * param`과 `int param[]`은 같은 의미이다. `int param[]`에 크기를 지정해주어도 무방하지만 값은 무시된다. "
      ]
    },
    {
      "cell_type": "markdown",
      "metadata": {
        "id": "sh7ziX3D7juc",
        "colab_type": "text"
      },
      "source": [
        ""
      ]
    },
    {
      "cell_type": "markdown",
      "metadata": {
        "id": "7b_J_jk1DIK7",
        "colab_type": "text"
      },
      "source": [
        "## Call-by-value vs.\n",
        "## Call-by-reference"
      ]
    },
    {
      "cell_type": "markdown",
      "metadata": {
        "id": "aNc7xBtJDRfs",
        "colab_type": "text"
      },
      "source": [
        "call by value와 call by reference는 함수의 호출방식을 의미하다. "
      ]
    },
    {
      "cell_type": "markdown",
      "metadata": {
        "id": "CH2l0c5xDZeg",
        "colab_type": "text"
      },
      "source": [
        "값을 전달하는 형태의 함수호출 : call by value\n",
        "\n",
        "함수를 호출할 때 단순히 값을 전달하는 형태의 함수호출을 가르켜 call by value라 하고, 메모리의 접근에 사용되는 주사 값을 전달하는 형태의 함수호출을 가리켜 call by reference라 한다. 즉, 둘을 구분하는 기준은 함수의 인자로 전달되는 대상에 있다. "
      ]
    },
    {
      "cell_type": "code",
      "metadata": {
        "id": "7Qcx1IMQDzRN",
        "colab_type": "code",
        "colab": {}
      },
      "source": [
        "'''\n",
        "아래 코드의 정답을 맞춰보세염!\n",
        "'''\n",
        "\n",
        "#incldue <stdio.h>\n",
        "\n",
        "void Swap(int n1, int n2)\n",
        "{\n",
        "    int temp=n1;\n",
        "    n1=n2;\n",
        "    n2=temp;\n",
        "    printf(\"n1 n2: %d %d /n\", num1, num2);\n",
        "}\n",
        "\n",
        "itn main(void)\n",
        "{\n",
        "    int num1=10;\n",
        "    int num2=20;\n",
        "    printf(\"num1 num2:%d %d/n\", num1,num2):\n",
        "\n",
        "    Swap(num1, num2);\n",
        "    printf(\"num1 num2: %d %d /n\", num1,num2);\n",
        "    return 0;\n",
        "}"
      ],
      "execution_count": 0,
      "outputs": []
    },
    {
      "cell_type": "code",
      "metadata": {
        "id": "8tqbie2RE4_F",
        "colab_type": "code",
        "colab": {}
      },
      "source": [
        "'''\n",
        "아래 코드의 정답을 맞춰보세염!\n",
        "'''\n",
        "\n",
        "#incldue <stdio.h>\n",
        "\n",
        "void Swap(int * ptr1, int * ptr2)\n",
        "{\n",
        "    int temp=*ptr1;\n",
        "    *ptr1=*ptr2;\n",
        "    *ptr2=temp;\n",
        "    printf(\"n1 n2: %d %d /n\", num1, num2);\n",
        "}\n",
        "\n",
        "itn main(void)\n",
        "{\n",
        "    int num1=10;\n",
        "    int num2=20;\n",
        "    printf(\"num1 num2:%d %d/n\", num1,num2):\n",
        "\n",
        "    Swap(&num1, &num2);\n",
        "    printf(\"num1 num2: %d %d /n\", num1,num2);\n",
        "    return 0;\n",
        "}"
      ],
      "execution_count": 0,
      "outputs": []
    },
    {
      "cell_type": "markdown",
      "metadata": {
        "id": "mekfdj5XEd0P",
        "colab_type": "text"
      },
      "source": [
        "이제는 scanf 함수 호출 시 & 연산자를 붙이는 이유를 알 수 있다. \n",
        "\n",
        "scnaf 함수는 프로그램 사용자로부터 값을 입력받아서 변수 num에 그 값을 채우는 일을 하기 때문이다. \n",
        "\n",
        "즉 scanf 함수도 call by reference 형태의 함수호출에 해당한다고 할 수 있다.\n",
        "\n",
        "[참고] 문자열이 저장될 때 배열의 이름 앞에는 &를 붙이지 않는다. 배열의 이름은 그 자체로 배열의 주소 값이기 때문이다. "
      ]
    },
    {
      "cell_type": "code",
      "metadata": {
        "id": "kw61vdztGd-U",
        "colab_type": "code",
        "colab": {}
      },
      "source": [
        "# 14-1 [Call-by-value & Call-by-reference]\n",
        "# 문제 1\n",
        "'''변수 num에 저장된 값의 제곱을 계산하는 함수를 정의하고 이를 호출하는 main함수르 작성해보자. 단, 여기서는 다음 두가지 형태로 함수를 정의해야 한다.\n",
        " - call by value 기반의 SquarByValue함수\n",
        " - call by reference 기반의 SqureByReference 함수\n",
        " 전자의 함수는ㄴ 인자로 전달된 값의 제곱을 반환해야 하며, 후자의 함수는 정수가 저장되어 있느 변수의 주소 값을 인자로 ㅂ다아서 해당 변수에 저장된 값의 제곱을 그 변수에 다시 저장해야 한다. '''\n",
        "\n",
        "#include <stdio.h>\n",
        "\n",
        "int SquareByValue(int num)\n",
        "{\n",
        "    return num*num;\n",
        "}\n",
        "\n",
        "void SquareByReferene(int * ptr)\n",
        "{\n",
        "    int num = *ptr;\n",
        "    *ptr = num*num;\n",
        "}\n",
        "\n",
        "int main(void)\n",
        "{\n",
        "    int num = 10;\n",
        "    printf(\"%d /n\", SquareByValue(num));\n",
        "    SquareByReferene(&num);\n",
        "    printf(\"% /n\", num);\n",
        " \n",
        "    return 0;\n",
        "}\n",
        "\n",
        "# 문제 2\n",
        "'''세 변수에 저장된 값을 서로 뒤바꾸는 함수를 정의해보자. 예를 들어서 함수의 이름이 Swap3이라하며느 다음의 형태로 함수가 호출되어야 한다. \n",
        "Swap3(&num1,&num2,&num3);\n",
        "그리고 함수호출의 결과로 num1에 저장된 값은 num2에, num2에 저장된 값은 num3에, 그리고 num3에 저장된 값은 num1에 저장되어야 한다.'''\n",
        "\n",
        "#include <stdio.h>\n",
        "\n",
        "void Swap3(int * ptr1, int * ptr2, int * ptr3)\n",
        "{\n",
        "    int temp = *ptr3;\n",
        "    *ptr3 = *ptr2;\n",
        "    *ptr2 = *ptr1;\n",
        "    *ptr1 = temp;\n",
        "}\n",
        "\n",
        "itn main(void)\n",
        "{\n",
        "    int num1=10, num2 = 20, num3=30;\n",
        "    Swap3(&num1, &num2, &num3);\n",
        "    printf(\"%d %d %d/n\", num1, num2, num3);\n",
        "    return 0;\n",
        "}"
      ],
      "execution_count": 0,
      "outputs": []
    },
    {
      "cell_type": "markdown",
      "metadata": {
        "id": "SfH_6yqmG1j8",
        "colab_type": "text"
      },
      "source": [
        "## 포인터 대상의 const선언"
      ]
    },
    {
      "cell_type": "markdown",
      "metadata": {
        "id": "q2BhqKj2G9x_",
        "colab_type": "text"
      },
      "source": [
        "앞선 강의를 집중해서 들은 학생이라면 const 선언에 대해 공부했을 것이다. 변수를 상수화하는 목적의 const선언을 배웠다. 이러한 const선언은 포인터 변수를 대상으로도 선언이 가능하다. "
      ]
    },
    {
      "cell_type": "code",
      "metadata": {
        "id": "KU0UeI9GHgKi",
        "colab_type": "code",
        "colab": {}
      },
      "source": [
        "int main(void)\n",
        "{\n",
        "    int num=20;\n",
        "    const int * ptr=&num;\n",
        "    *ptr=30;  #컴파일 00\n",
        "    num=40;   #컴파일 00\n",
        "}"
      ],
      "execution_count": 0,
      "outputs": []
    },
    {
      "cell_type": "markdown",
      "metadata": {
        "id": "hQgibJq8HWNI",
        "colab_type": "text"
      },
      "source": [
        "위 문제의 정답은 차례로 실패, 성공이다. const 선언을 맨 앞부분에서 하게 되면, \n",
        "\n",
        "\"포인터 변수 ptr이 가리키는 변수에 저장된 값을 변경하는 것을 허용하지 않겠습니다!\" \n",
        "\n",
        "라는 의미를 가지게 된다.\n",
        "\n",
        "즉, const선언을 통해서 값의 변경 방법에 제한을 줄 수 있다."
      ]
    },
    {
      "cell_type": "code",
      "metadata": {
        "id": "v1XAu__UIWRt",
        "colab_type": "code",
        "colab": {}
      },
      "source": [
        "int main(void)\n",
        "{\n",
        "    int num1=20;\n",
        "    int num2=30;\n",
        "    int * const ptr = &num1;\n",
        "    ptr = &num2;  #컴파일 00\n",
        "    *ptr=40;      #컴파일 00\n",
        "}"
      ],
      "execution_count": 0,
      "outputs": []
    },
    {
      "cell_type": "markdown",
      "metadata": {
        "id": "x47dj2z_JHPQ",
        "colab_type": "text"
      },
      "source": [
        "위 문제의 정답은 차례로 실패, 성공이다. const 선언을 포인터 변수 이름 앞에 하기 되면, 포인터 변수 ptr은 상수가 된다는 의미가 된다. 포인터 변수 ptr이 상수라는 뜻은 한 번 주소 값이 저장되고 나면 그 값의 변경이 불가능하다는 의미이다. "
      ]
    },
    {
      "cell_type": "markdown",
      "metadata": {
        "id": "c1jL8CY8JoUs",
        "colab_type": "text"
      },
      "source": [
        "두 선언을 동시에 사용할 수도 있다. 아래와 같이 말이다!\n",
        "\n",
        "`const int * const ptr=&num`\n",
        "\n",
        "이를 풀어서 해석하자면, 변수에 저장된 값을 변경하지도 못하고, ptr이 가르키는 주소도 변경이 불가능하다. "
      ]
    },
    {
      "cell_type": "markdown",
      "metadata": {
        "id": "eNEg1xOKKBTe",
        "colab_type": "text"
      },
      "source": [
        "const 선언이 특별한 긴ㅇ을 제공하는 것은 아니기 때문에 그 중요성을 인식하지 못하는 경우가 많다. 이는 c++에만 존재하던 키워드였는데, c언어의 표준을 재정립하는 과정에서 c 언어의 일부가 된것이다. 다르게 말하지면 그만큼 const선언은 중요하고 유용하다는 뜻이다. \n",
        "\n",
        "const 선언을 많이할수록 코드의 안전성이 높아진다."
      ]
    },
    {
      "cell_type": "code",
      "metadata": {
        "id": "2EFQ-U06KZ4T",
        "colab_type": "code",
        "colab": {}
      },
      "source": [
        "int main(void)\n",
        "{\n",
        "    double PI=3.1415;\n",
        "    double rad;\n",
        "    PI = 3.07;\n",
        "    scanf(\"%lf\", &rad);\n",
        "    printf(\"circle area %f /n\", rad*rad*PI);\n",
        "    return 0;\n",
        "}"
      ],
      "execution_count": 0,
      "outputs": []
    },
    {
      "cell_type": "markdown",
      "metadata": {
        "id": "Psuc1GFjK3FI",
        "colab_type": "text"
      },
      "source": [
        "PI 값이 변경되면 안된다는 것은 제작자가 알고 있었지만, 실수로 값을 변경시켜도 컴파일 에러가 발생하지 않아서 에러를 알아차리기 어렵다. "
      ]
    },
    {
      "cell_type": "code",
      "metadata": {
        "id": "SLwL3nIgLDAr",
        "colab_type": "code",
        "colab": {}
      },
      "source": [
        "int main(void)\n",
        "{\n",
        "    const double PI=3.1415;\n",
        "    double rad;\n",
        "    PI = 3.07;\n",
        "    scanf(\"%lf\", &rad);\n",
        "    printf(\"circle area %f /n\", rad*rad*PI);\n",
        "    return 0;\n",
        "}"
      ],
      "execution_count": 0,
      "outputs": []
    },
    {
      "cell_type": "markdown",
      "metadata": {
        "id": "kfdTymY-LGcD",
        "colab_type": "text"
      },
      "source": [
        "const 선언 하나만으로 PI가 변경되는 시점에 컴파일 에러가 발생하여 안전성을 높일 수 있다. "
      ]
    },
    {
      "cell_type": "markdown",
      "metadata": {
        "id": "t1O1MkdlLU4-",
        "colab_type": "text"
      },
      "source": [
        "***좋은 프로그래밍 습관은 사소한 것들이 모여서 완성된다.*** "
      ]
    },
    {
      "cell_type": "markdown",
      "metadata": {
        "id": "evHuJr4sPvfS",
        "colab_type": "text"
      },
      "source": [
        "문제 14-2 [const 선언에 대한 추가적인 이해]\n",
        ">문제1    아래에 정의된 함수를 보자. 인자로 전달되는 정보를 참조하여 int형 배열요소 전체를 출력하는 함수이다.\n",
        "\n",
        "`void ShowAllData(const int * arr, int len)`\n",
        "\n",
        "`{`\n",
        "\n",
        "`  int i;`\n",
        "\n",
        "`  for(i=0;i<len;i++)`\n",
        "\n",
        "`    printf(\"%d\",arr[i]);`\n",
        "\n",
        "`}`\n",
        "\n",
        "위 함수의 매개변수 선언에서 매개변수 arr을 대상으로 const 선언을 한 이유가 무엇이겠는가? 이 함수를 정의한 사람의 의도를 이야기해 보자. "
      ]
    },
    {
      "cell_type": "markdown",
      "metadata": {
        "id": "DYOrPQ7DQmHr",
        "colab_type": "text"
      },
      "source": [
        "> 문제2    아래의 예제는 한 가지 지적할 만한 사항ㅇ르 지니고 있다. 그것이 무엇인지 이야기해 보자. 특히 이와 관련해서 ShowData 함수를 유심히 관찰하기 바란다.\n",
        "\n",
        "`void ShowData(ocnst int * ptr)`\n",
        "\n",
        "`{`\n",
        "\n",
        "`  int * rptr = ptr;`\n",
        "\n",
        "`  printf(\"%d /n\", *rptr);`\n",
        "\n",
        "`  *rptr = 20;`\n",
        "\n",
        "`}`\n",
        "\n",
        "\n",
        "`int main(void)`\n",
        "\n",
        "`{`\n",
        "\n",
        "`  int num = 10;`\n",
        "\n",
        "`  int * ptr=&num;`\n",
        "\n",
        "`  ShowData(ptr)`\n",
        "\n",
        "`  return 0;`\n",
        "\n",
        "`}`\n"
      ]
    }
  ]
}